{
 "cells": [
  {
   "cell_type": "code",
   "execution_count": 10,
   "id": "f7852ad1",
   "metadata": {},
   "outputs": [],
   "source": [
    "def find_mode(arr):\n",
    "    \n",
    "    frecuencia = {}  # Creamos un diccionario para poder asociar la frecuencia de cada elemto\n",
    "    \n",
    "    max_count = 0 #par guardar el valor mas alto que se encuentre\n",
    "    \n",
    "    for elemento in arr:\n",
    "        if elemento in frecuencia: # dentro del bucle, verifico si el elmento esta en el diccionario.\n",
    "                                    \n",
    "            frecuencia[elemento] += 1 # Si está en el diccionario, incrementa la frecuencia en 1\n",
    "        else:\n",
    "            frecuencia[elemento] = 1 # si no está, se añade con frecuencia 1\n",
    "            print(frecuencia)\n",
    "# tenemos creado un diccionario donde tenemos asociado el elemento con su frecuencia\n",
    "\n",
    "        if frecuencia[elemento] > max_count: #busco cual tiene mayor frecuencia\n",
    "            max_count = frecuencia[elemento] #actualizo el contador\n",
    "            mode = elemento \n",
    "\n",
    "    return mode"
   ]
  },
  {
   "cell_type": "code",
   "execution_count": 11,
   "id": "125527ff",
   "metadata": {},
   "outputs": [
    {
     "name": "stdout",
     "output_type": "stream",
     "text": [
      "{1: 1}\n",
      "{1: 1, 5: 1}\n",
      "{1: 1, 5: 1, 6: 1}\n",
      "{1: 1, 5: 1, 6: 1, 9: 1}\n",
      "{1: 1, 5: 1, 6: 1, 9: 1, 8: 1}\n",
      "{1: 1, 5: 1, 6: 1, 9: 1, 8: 1, 4: 1}\n",
      "{1: 1, 5: 2, 6: 1, 9: 1, 8: 1, 4: 1, 2: 1}\n",
      "{1: 2, 5: 2, 6: 1, 9: 1, 8: 1, 4: 1, 2: 1, 7: 1}\n",
      "{1: 2, 5: 3, 6: 2, 9: 1, 8: 1, 4: 1, 2: 1, 7: 1, 3: 1}\n"
     ]
    },
    {
     "data": {
      "text/plain": [
       "5"
      ]
     },
     "execution_count": 11,
     "metadata": {},
     "output_type": "execute_result"
    }
   ],
   "source": [
    "lst=[1,5,6,9,8,4,5,2,1,7,5,6,3,9,4,1,5,2,8,5,6,2,1,4,7,9,9]\n",
    "\n",
    "find_mode(lst)"
   ]
  }
 ],
 "metadata": {
  "language_info": {
   "codemirror_mode": {
    "name": "ipython",
    "version": 3
   },
   "file_extension": ".py",
   "mimetype": "text/x-python",
   "name": "python",
   "nbconvert_exporter": "python",
   "pygments_lexer": "ipython3",
   "version": "3.10.13"
  }
 },
 "nbformat": 4,
 "nbformat_minor": 5
}
