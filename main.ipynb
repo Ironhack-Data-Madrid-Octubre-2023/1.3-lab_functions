{
 "cells": [
  {
   "cell_type": "markdown",
   "metadata": {
    "toc": true
   },
   "source": [
    "<h1>Table of Contents<span class=\"tocSkip\"></span></h1>\n",
    "<div class=\"toc\"><ul class=\"toc-item\"><li><span><a href=\"#Functions\" data-toc-modified-id=\"Functions-1\"><span class=\"toc-item-num\">1&nbsp;&nbsp;</span>Functions</a></span><ul class=\"toc-item\"><li><span><a href=\"#1.-Write-a-function-that-returns-the-greater-of-two-numbers\" data-toc-modified-id=\"1.-Write-a-function-that-returns-the-greater-of-two-numbers-1.1\"><span class=\"toc-item-num\">1.1&nbsp;&nbsp;</span>1. Write a function that returns the greater of two numbers</a></span></li><li><span><a href=\"#2.-Now-write-a-function-that-returns-the-largest-element-on-a-list\" data-toc-modified-id=\"2.-Now-write-a-function-that-returns-the-largest-element-on-a-list-1.2\"><span class=\"toc-item-num\">1.2&nbsp;&nbsp;</span>2. Now write a function that returns the largest element on a list</a></span></li><li><span><a href=\"#3.-Write-a-function-that-sums-all-the-elements-on-a-list\" data-toc-modified-id=\"3.-Write-a-function-that-sums-all-the-elements-on-a-list-1.3\"><span class=\"toc-item-num\">1.3&nbsp;&nbsp;</span>3. Write a function that sums all the elements on a list</a></span></li><li><span><a href=\"#4.-Write-another-function-that-multiplies-all-the-elements-on-a-list\" data-toc-modified-id=\"4.-Write-another-function-that-multiplies-all-the-elements-on-a-list-1.4\"><span class=\"toc-item-num\">1.4&nbsp;&nbsp;</span>4. Write another function that multiplies all the elements on a list</a></span></li><li><span><a href=\"#5.-Now-combine-those-two-ideas-and-write-a-function-that-receives-a-list-and-either-&quot;+&quot;-or-&quot;*&quot;-and-outputs-acordingly\" data-toc-modified-id=\"5.-Now-combine-those-two-ideas-and-write-a-function-that-receives-a-list-and-either-&quot;+&quot;-or-&quot;*&quot;-and-outputs-acordingly-1.5\"><span class=\"toc-item-num\">1.5&nbsp;&nbsp;</span>5. Now combine those two ideas and write a function that receives a list and either \"+\" or \"*\" and outputs acordingly</a></span></li><li><span><a href=\"#6.-Write-a-function-that-returns-the-factorial-of-a-number.\" data-toc-modified-id=\"6.-Write-a-function-that-returns-the-factorial-of-a-number.-1.6\"><span class=\"toc-item-num\">1.6&nbsp;&nbsp;</span>6. Write a function that returns the factorial of a number.</a></span></li><li><span><a href=\"#7.-Write-a-function-that-takes-a-list-and-returns-a-list-of-the-unique-values.\" data-toc-modified-id=\"7.-Write-a-function-that-takes-a-list-and-returns-a-list-of-the-unique-values.-1.7\"><span class=\"toc-item-num\">1.7&nbsp;&nbsp;</span>7. Write a function that takes a list and returns a list of the unique values.</a></span></li><li><span><a href=\"#8.-Write-a-function-that-returns-the-mode-of-a-list,-i.e.:-the-element-that-appears-the-most-times.\" data-toc-modified-id=\"8.-Write-a-function-that-returns-the-mode-of-a-list,-i.e.:-the-element-that-appears-the-most-times.-1.8\"><span class=\"toc-item-num\">1.8&nbsp;&nbsp;</span>8. Write a function that returns the mode of a list, i.e.: the element that appears the most times.</a></span></li><li><span><a href=\"#9.-Write-a-function-that-calculates-the-standard-deviation-of-a-list.\" data-toc-modified-id=\"9.-Write-a-function-that-calculates-the-standard-deviation-of-a-list.-1.9\"><span class=\"toc-item-num\">1.9&nbsp;&nbsp;</span>9. Write a function that calculates the standard deviation of a list.</a></span></li><li><span><a href=\"#10.-Write-a-function-to-check-if-a-string-is-a-pangram,-i.e.:-if-it-contains-all-the-letters-of-the-alphabet-at-least-once.-Mind-that-the-strings-may-contain-characters-that-are-not-letters.\" data-toc-modified-id=\"10.-Write-a-function-to-check-if-a-string-is-a-pangram,-i.e.:-if-it-contains-all-the-letters-of-the-alphabet-at-least-once.-Mind-that-the-strings-may-contain-characters-that-are-not-letters.-1.10\"><span class=\"toc-item-num\">1.10&nbsp;&nbsp;</span>10. Write a function to check if a string is a pangram, i.e.: if it contains all the letters of the alphabet at least once. Mind that the strings may contain characters that are not letters.</a></span></li><li><span><a href=\"#11.-Write-a-function-that-receives-a-string-of-comma-separated-words-and-returns-a-string-of-comma-separated-words-sorted-alphabetically.\" data-toc-modified-id=\"11.-Write-a-function-that-receives-a-string-of-comma-separated-words-and-returns-a-string-of-comma-separated-words-sorted-alphabetically.-1.11\"><span class=\"toc-item-num\">1.11&nbsp;&nbsp;</span>11. Write a function that receives a string of comma separated words and returns a string of comma separated words sorted alphabetically.</a></span></li><li><span><a href=\"#12.-Write-a-function-to-check-if-a-given-password-is-strong-(at-least-8-characters,-at-least-one-lower-case,-at-least-one-upper-case,-at-least-one-number-and-at-least-one-special-character).-It-should-output-True-if-strong-and-False-if-not.\" data-toc-modified-id=\"12.-Write-a-function-to-check-if-a-given-password-is-strong-(at-least-8-characters,-at-least-one-lower-case,-at-least-one-upper-case,-at-least-one-number-and-at-least-one-special-character).-It-should-output-True-if-strong-and-False-if-not.-1.12\"><span class=\"toc-item-num\">1.12&nbsp;&nbsp;</span>12. Write a function to check if a given password is strong (at least 8 characters, at least one lower case, at least one upper case, at least one number and at least one special character). It should output True if strong and False if not.</a></span></li></ul></li></ul></div>"
   ]
  },
  {
   "cell_type": "markdown",
   "metadata": {},
   "source": [
    "# Functions"
   ]
  },
  {
   "cell_type": "markdown",
   "metadata": {},
   "source": [
    "On this lab we will put to practice some of the concepts we have learned on this past few days.\n",
    "\n",
    "`NOTE: On this lab you should try to write all the functions yourself using only the most basic of python syntax and without functions such as len, count, sum, max, min, in, etc. Give it a try. 🧑🏻‍💻👩🏻‍💻`\n",
    "\n",
    "The cell after each exercise contains a few tests to check if your function works as expected."
   ]
  },
  {
   "cell_type": "code",
   "execution_count": 7,
   "metadata": {},
   "outputs": [],
   "source": [
    "#Run this cell\n",
    "\n",
    "from mod.testing import *\n",
    "import unittest"
   ]
  },
  {
   "cell_type": "markdown",
   "metadata": {},
   "source": [
    "## 1. Write a function that returns the greater of two numbers"
   ]
  },
  {
   "cell_type": "code",
   "execution_count": 21,
   "metadata": {},
   "outputs": [],
   "source": [
    "def greater(a,b):\n",
    "    if a > b:\n",
    "        return a\n",
    "    else:\n",
    "        return b"
   ]
  },
  {
   "cell_type": "code",
   "execution_count": 22,
   "metadata": {},
   "outputs": [
    {
     "name": "stderr",
     "output_type": "stream",
     "text": [
      "....................................................................................................\n",
      "----------------------------------------------------------------------\n",
      "Ran 100 tests in 0.043s\n",
      "\n",
      "OK\n"
     ]
    }
   ],
   "source": [
    "# This will test your function \n",
    "test_greater(greater)"
   ]
  },
  {
   "cell_type": "markdown",
   "metadata": {},
   "source": [
    "## 2. Now write a function that returns the largest element on a list"
   ]
  },
  {
   "cell_type": "code",
   "execution_count": 23,
   "metadata": {},
   "outputs": [],
   "source": [
    "def greatest(arr):\n",
    "    result = 0\n",
    "\n",
    "    for i in arr:\n",
    "        \n",
    "        if i >= result: result = i\n",
    "\n",
    "    return result"
   ]
  },
  {
   "cell_type": "code",
   "execution_count": 24,
   "metadata": {},
   "outputs": [
    {
     "name": "stderr",
     "output_type": "stream",
     "text": [
      "....................................................................................................\n",
      "----------------------------------------------------------------------\n",
      "Ran 100 tests in 0.040s\n",
      "\n",
      "OK\n"
     ]
    }
   ],
   "source": [
    "# This will test your function \n",
    "test_greatest(greatest)"
   ]
  },
  {
   "cell_type": "markdown",
   "metadata": {},
   "source": [
    "## 3. Write a function that sums all the elements on a list"
   ]
  },
  {
   "cell_type": "code",
   "execution_count": 25,
   "metadata": {},
   "outputs": [],
   "source": [
    "def sum_all(arr):\n",
    "    \n",
    "    sumatorio = 0\n",
    "    \n",
    "    for element in arr:\n",
    "        sumatorio += element\n",
    "    \n",
    "    return sumatorio"
   ]
  },
  {
   "cell_type": "code",
   "execution_count": 26,
   "metadata": {},
   "outputs": [
    {
     "name": "stderr",
     "output_type": "stream",
     "text": [
      "....................................................................................................\n",
      "----------------------------------------------------------------------\n",
      "Ran 100 tests in 0.038s\n",
      "\n",
      "OK\n"
     ]
    }
   ],
   "source": [
    "# This will test your function \n",
    "test_sum(sum_all)"
   ]
  },
  {
   "cell_type": "markdown",
   "metadata": {},
   "source": [
    "## 4. Write another function that multiplies all the elements on a list"
   ]
  },
  {
   "cell_type": "code",
   "execution_count": 27,
   "metadata": {},
   "outputs": [],
   "source": [
    "def mult_all(arr):\n",
    "    \n",
    "    productorio = 1\n",
    "    \n",
    "    for element_ in arr:\n",
    "        productorio *= element_\n",
    "    \n",
    "    return productorio"
   ]
  },
  {
   "cell_type": "code",
   "execution_count": 28,
   "metadata": {},
   "outputs": [
    {
     "name": "stderr",
     "output_type": "stream",
     "text": [
      "....................................................................................................\n",
      "----------------------------------------------------------------------\n",
      "Ran 100 tests in 0.039s\n",
      "\n",
      "OK\n"
     ]
    }
   ],
   "source": [
    "# This will test your function \n",
    "test_mult(mult_all)"
   ]
  },
  {
   "cell_type": "markdown",
   "metadata": {},
   "source": [
    "## 5. Now combine those two ideas and write a function that receives a list and either \"+\" or \"*\" and outputs acordingly"
   ]
  },
  {
   "cell_type": "code",
   "execution_count": 29,
   "metadata": {},
   "outputs": [],
   "source": [
    "def oper_all(arr, oper):\n",
    "    \n",
    "    sumatory=0\n",
    "    productory=1\n",
    "    \n",
    "    if oper == \"+\":\n",
    "        \n",
    "        for element in arr:\n",
    "            sumatory += element\n",
    "            solution = sumatory\n",
    "        \n",
    "    elif oper == \"*\":\n",
    "        \n",
    "        for element in arr:\n",
    "            productory *= element\n",
    "            solution = productory\n",
    "        \n",
    "    return solution"
   ]
  },
  {
   "cell_type": "code",
   "execution_count": 30,
   "metadata": {},
   "outputs": [
    {
     "name": "stderr",
     "output_type": "stream",
     "text": [
      "....................................................................................................\n",
      "----------------------------------------------------------------------\n",
      "Ran 100 tests in 0.041s\n",
      "\n",
      "OK\n"
     ]
    }
   ],
   "source": [
    "# This will test your function \n",
    "test_operations(oper_all)"
   ]
  },
  {
   "cell_type": "markdown",
   "metadata": {},
   "source": [
    "## 6. Write a function that returns the factorial of a number."
   ]
  },
  {
   "cell_type": "code",
   "execution_count": 8,
   "metadata": {},
   "outputs": [],
   "source": [
    "def factorial(n):\n",
    "    \n",
    "    fact=1\n",
    "    \n",
    "    for i in range(1,n+1): #para que multiplique hasta n\n",
    "        fact *= i   \n",
    "        \n",
    "    return fact"
   ]
  },
  {
   "cell_type": "code",
   "execution_count": 9,
   "metadata": {},
   "outputs": [
    {
     "name": "stderr",
     "output_type": "stream",
     "text": [
      "....................................................................................................\n",
      "----------------------------------------------------------------------\n",
      "Ran 100 tests in 0.079s\n",
      "\n",
      "OK\n"
     ]
    }
   ],
   "source": [
    "# This will test your function \n",
    "test_factorial(factorial)"
   ]
  },
  {
   "cell_type": "markdown",
   "metadata": {},
   "source": [
    "## 7. Write a function that takes a list and returns a list of the unique values.\n",
    "\n",
    "`NOTE: You cannot use set. 🤔`"
   ]
  },
  {
   "cell_type": "markdown",
   "metadata": {},
   "source": [
    "#EJEMPLO PARA VER CÓMO FUNCIONA EL ALGORITMO\n",
    "\n",
    "prueba = [1,2,3,3]\n",
    "solucion=[]\n",
    "\n",
    "for elemento in prueba:\n",
    "    if elemento not in solucion:\n",
    "        solucion.append(elemento)\n",
    "    else:\n",
    "        pass\n",
    "        \n",
    "    print(solucion)"
   ]
  },
  {
   "cell_type": "code",
   "execution_count": 104,
   "metadata": {},
   "outputs": [],
   "source": [
    "def unique(arr):\n",
    "    \n",
    "    list_unique=[]\n",
    "    \n",
    "    for elemento in arr:\n",
    "        if elemento not in list_unique:\n",
    "            list_unique.append(elemento)\n",
    "     \n",
    "    return list_unique"
   ]
  },
  {
   "cell_type": "code",
   "execution_count": 105,
   "metadata": {},
   "outputs": [
    {
     "name": "stderr",
     "output_type": "stream",
     "text": [
      "....................................................................................................\n",
      "----------------------------------------------------------------------\n",
      "Ran 100 tests in 0.159s\n",
      "\n",
      "OK\n"
     ]
    }
   ],
   "source": [
    "# This will test your function \n",
    "test_unique(unique)"
   ]
  },
  {
   "cell_type": "markdown",
   "metadata": {},
   "source": [
    "## 8. Write a function that returns the mode of a list, i.e.: the element that appears the most times.\n",
    "`NOTE: You should not use count... 🧐`"
   ]
  },
  {
   "cell_type": "code",
   "execution_count": 97,
   "metadata": {},
   "outputs": [
    {
     "data": {
      "text/plain": [
       "dict_items([('a', 5), ('b', 10), ('c', 3), ('d', 15)])"
      ]
     },
     "execution_count": 97,
     "metadata": {},
     "output_type": "execute_result"
    }
   ],
   "source": [
    "my_dict = {'a': 5, 'b': 10, 'c': 3, 'd': 15}\n",
    "\n",
    "my_dict.items()"
   ]
  },
  {
   "cell_type": "code",
   "execution_count": 101,
   "metadata": {},
   "outputs": [
    {
     "name": "stdout",
     "output_type": "stream",
     "text": [
      "3\n"
     ]
    }
   ],
   "source": [
    "##EJEMPLO PARA SACAR EL ALGORITMO\n",
    "\n",
    "prueba = [1,2,3,3]\n",
    "dictionary = {}\n",
    "\n",
    "#Hago un diccionario donde key son los números y value las veces que se repite\n",
    "\n",
    "for element in prueba:\n",
    "    \n",
    "    if element in dictionary:\n",
    "        \n",
    "        dictionary[element] += 1\n",
    "    else:\n",
    "        dictionary[element] = 1\n",
    "\n",
    "#Ahora busco el máximo value      \n",
    "\n",
    "max_value = 0\n",
    "max_key = 0\n",
    "\n",
    "for key, value in dictionary.items(): #me devuelve las parejas key-value\n",
    "    if value > max_value:\n",
    "        max_value = value\n",
    "        max_key = key\n",
    "\n",
    "print(max_key)     "
   ]
  },
  {
   "cell_type": "code",
   "execution_count": 33,
   "metadata": {},
   "outputs": [],
   "source": [
    "def mode_counter(arr):\n",
    "    \n",
    "    dictio={}\n",
    "\n",
    "    for element in arr:\n",
    "           \n",
    "        if element in dictio:\n",
    "        \n",
    "            dictio[element] += 1\n",
    "        else:\n",
    "            dictio[element] = 1\n",
    "\n",
    "    #Ahora busco el máximo value      \n",
    "\n",
    "    max_value = 0\n",
    "    max_key = 0\n",
    "\n",
    "    for key,value in dictio.items(): #me devuelve las parejas key-value\n",
    "        if value > max_value:\n",
    "            max_value = value\n",
    "            max_key = key\n",
    "            moda = max_key\n",
    "    \n",
    "    return moda"
   ]
  },
  {
   "cell_type": "code",
   "execution_count": 34,
   "metadata": {},
   "outputs": [
    {
     "name": "stderr",
     "output_type": "stream",
     "text": [
      "....................................................................................................\n",
      "----------------------------------------------------------------------\n",
      "Ran 100 tests in 0.041s\n",
      "\n",
      "OK\n"
     ]
    }
   ],
   "source": [
    "# This will test your function \n",
    "test_mode(mode_counter)"
   ]
  },
  {
   "cell_type": "markdown",
   "metadata": {},
   "source": [
    "## 9. Write a function that calculates the standard deviation of a list.\n",
    "`NOTE: Do not use any libraries or already built functions. 😉`"
   ]
  },
  {
   "cell_type": "code",
   "execution_count": 79,
   "metadata": {},
   "outputs": [],
   "source": [
    "from statistics import stdev\n",
    "\n",
    "def st_dev(arr):\n",
    "    \n",
    "    n_elements = arr\n",
    "    n = len(n_elements)\n",
    "    \n",
    "    if n<2:\n",
    "        return 0\n",
    "    \n",
    "    mean = sum(n_elements)/n\n",
    "    var_sum=0\n",
    "        \n",
    "    for element in n_elements:\n",
    "        \n",
    "        var_sum += (element-mean)**2\n",
    "        \n",
    "    var = var_sum/(n-1)\n",
    "        \n",
    "    st_dev = (var)**0.5\n",
    "        \n",
    "    return st_dev"
   ]
  },
  {
   "cell_type": "code",
   "execution_count": 80,
   "metadata": {},
   "outputs": [
    {
     "name": "stderr",
     "output_type": "stream",
     "text": [
      "....................................................................................................\n",
      "----------------------------------------------------------------------\n",
      "Ran 100 tests in 0.042s\n",
      "\n",
      "OK\n"
     ]
    }
   ],
   "source": [
    "# This will test your function \n",
    "test_stdev(st_dev)"
   ]
  },
  {
   "cell_type": "markdown",
   "metadata": {},
   "source": [
    "## 10. Write a function to check if a string is a pangram, i.e.: if it contains all the letters of the alphabet at least once. Mind that the strings may contain characters that are not letters."
   ]
  },
  {
   "cell_type": "code",
   "execution_count": 29,
   "metadata": {},
   "outputs": [],
   "source": [
    "def pangram(string):\n",
    "\n",
    "    alphabet = ['a', 'b', 'c', 'd', 'e', 'f', 'g', 'h', 'i', 'j', 'k', 'l', 'm', 'n', 'o', 'p', 'q', 'r', 's', 't', 'u', 'v', 'w', 'x', 'y', 'z']\n",
    "    \n",
    "    for letter in alphabet:\n",
    "        if letter not in string.lower():\n",
    "            return False\n",
    "        else:\n",
    "            pass\n",
    "        \n",
    "    return True"
   ]
  },
  {
   "cell_type": "code",
   "execution_count": 30,
   "metadata": {},
   "outputs": [
    {
     "name": "stderr",
     "output_type": "stream",
     "text": [
      "..............................\n",
      "----------------------------------------------------------------------\n",
      "Ran 30 tests in 0.024s\n",
      "\n",
      "OK\n"
     ]
    }
   ],
   "source": [
    "# This will test your function \n",
    "test_pangram(pangram)"
   ]
  },
  {
   "cell_type": "markdown",
   "metadata": {},
   "source": [
    "## 11. Write a function that receives a string of comma separated words and returns a string of comma separated words sorted alphabetically.\n",
    "\n",
    "`NOTE: You may use sorted but not split and definitely no join! 🤪`"
   ]
  },
  {
   "cell_type": "code",
   "execution_count": 9,
   "metadata": {},
   "outputs": [],
   "source": [
    "#LO QUE PIDEN\n",
    "\n",
    "def sort_alpha(string):\n",
    "    \n",
    "    s = s.split(',')\n",
    "    \n",
    "    s = sorted(s)\n",
    "    \n",
    "    s = ','.join(s)\n",
    "       \n",
    "    return"
   ]
  },
  {
   "cell_type": "code",
   "execution_count": 10,
   "metadata": {},
   "outputs": [],
   "source": [
    "def sort_alpha(string):\n",
    "    \n",
    "    palabras = []\n",
    "    \n",
    "    #para hacer split, tendré que recorrer todo el string y en qué posición está la coma cuando la encuentre, contar su posición\n",
    "    \n",
    "    start = 0 # para ver las posiciones\n",
    "    \n",
    "    #necesito índice y elemento\n",
    "    \n",
    "    for i, letra in enumerate(s):\n",
    "        \n",
    "        if letra ==',':\n",
    "            palabras.append(s[start:i])\n",
    "            \n",
    "           # el inicio está después de la coma\n",
    "        \n",
    "        start = i+1\n",
    "        \n",
    "    palabras.append(s[start:]) #porque se dejaría un elemento\n",
    "    \n",
    "    \n",
    "    #join\n",
    "    \n",
    "    resultado = ''\n",
    "    \n",
    "    for palabras in sorted(palabras):\n",
    "        \n",
    "        resultado += f'{palabra},'\n",
    "        \n",
    "        resultado = resultado [:-1] #quítame el último resultado que sé que es una coma\n",
    "        \n",
    "    return resultado"
   ]
  },
  {
   "cell_type": "code",
   "execution_count": 5,
   "metadata": {},
   "outputs": [],
   "source": [
    "def sort_alpha(s):\n",
    "    # split\n",
    "    palabras = []\n",
    "    start = 0\n",
    "    for i, letra in enumerate(s):\n",
    "        if letra==',':\n",
    "            palabras.append(s[start:i])\n",
    "            start = i+1\n",
    "    palabras.append(s[start:])\n",
    "    # join\n",
    "    resultado = ''\n",
    "    for palabra in sorted(palabras):\n",
    "        resultado += f'{palabra},'\n",
    "    resultado = resultado[:-1]\n",
    "    return resultado"
   ]
  },
  {
   "cell_type": "code",
   "execution_count": 6,
   "metadata": {},
   "outputs": [],
   "source": [
    "def split_mio(s, caracter=','):\n",
    "    palabras = []\n",
    "    start = 0\n",
    "    for i, letra in enumerate(s):\n",
    "        if letra==caracter:\n",
    "            palabras.append(s[start:i])\n",
    "            start = i+1\n",
    "    palabras.append(s[start:])\n",
    "    return palabras\n",
    "\n",
    "\n",
    "def join_mio(palabras):\n",
    "    resultado = ''\n",
    "    for palabra in sorted(palabras):\n",
    "        resultado += f'{palabra},'\n",
    "    resultado = resultado[:-1]\n",
    "    return resultado"
   ]
  },
  {
   "cell_type": "code",
   "execution_count": 13,
   "metadata": {},
   "outputs": [],
   "source": [
    "def sort_alpha(s):\n",
    "    s = split_mio(s)\n",
    "    s = join_mio(s)\n",
    "    return s"
   ]
  },
  {
   "cell_type": "code",
   "execution_count": 14,
   "metadata": {},
   "outputs": [
    {
     "name": "stderr",
     "output_type": "stream",
     "text": [
      "....................................................................................................\n",
      "----------------------------------------------------------------------\n",
      "Ran 100 tests in 0.039s\n",
      "\n",
      "OK\n"
     ]
    }
   ],
   "source": [
    "# This will test your function \n",
    "test_alpha(sort_alpha)"
   ]
  },
  {
   "cell_type": "markdown",
   "metadata": {},
   "source": [
    "## 12. Write a function to check if a given password is strong (at least 8 characters, at least one lower case, at least one upper case, at least one number and at least one special character). It should output True if strong and False if not.\n",
    "`Valid special characters: # @ ! $ % & ( ) ^ * [ ] { }`"
   ]
  },
  {
   "cell_type": "code",
   "execution_count": 95,
   "metadata": {},
   "outputs": [],
   "source": [
    "#PLANTEADO EN CLASE\n",
    "\n",
    "def check_pass(string): \n",
    "    \n",
    "    \n",
    "    #quiere guardar una lista de booleanos para checkear las cosas de uno en uno [True, True, False, True, False]\n",
    "    # False not in [True, True, True, True, True] ----> True. Comprobado\n",
    "    \n",
    "    resultado = [] #Tendré 5 elementos en esta lista, porque hay 5 condiciones. Quiero que todos salgan True para comprobar que contraseña ok\n",
    "    \n",
    "    #1º condición\n",
    "    if len(string)>=8:\n",
    "        resultado.append(True)\n",
    "    else:\n",
    "        resultado.append(False) #aquí podría poner ya un return porque si no cumple el primero, ya no hace falta comprobar todo.\n",
    "        \n",
    "    #2ª condición\n",
    "    \n",
    "    for letra in string:\n",
    "        if letra == string.lower() and letra not in specs:\n",
    "            resultado.append(True)\n",
    "            break #con que encuentres una minúscula ya puede parar, no hace falta que siga añadiedo True o false\n",
    "            \n",
    "    if len(resultado)==1: resultado.append(True)\n",
    "            \n",
    "    #3ª condición\n",
    "    for letra in string:\n",
    "        if letra == string.upper():\n",
    "            resultado.append(True)\n",
    "            break #con que encuentres una minúscula ya puede parar, no hace falta que siga añadiedo True o false\n",
    "            \n",
    "    if len(resultado)==2: resultado.append(True)\n",
    "    \n",
    "    #4\n",
    "    \n",
    "    for letra in string:\n",
    "        if letra == string.isdigit():\n",
    "            resultado.append(True)\n",
    "            break #con que encuentres una minúscula ya puede parar, no hace falta que siga añadiedo True o false\n",
    "            \n",
    "    if len(resultado)==3: resultado.append(True)\n",
    "    \n",
    "    #5\n",
    "    \n",
    "    specs = ['#','@','!','$','%', '&','()','^','*','[]', '{}']\n",
    "    \n",
    "    for letra in string:\n",
    "        if letra in specs:\n",
    "            resultado.append(True)\n",
    "        break\n",
    "             \n",
    "    if len(resultado)==4: resultado.append(True)\n",
    "             \n",
    "    return"
   ]
  },
  {
   "cell_type": "markdown",
   "metadata": {},
   "source": [
    "la solución es crear unas listas con todas las letras, números, y hacer bucle para comprobar, True\n",
    "\n",
    "\n",
    "for letra un s:\n",
    "    if letra in lower:\n",
    "        condition_low = True\n",
    "        \n",
    "        \n",
    "        all devuelve True si todos son True"
   ]
  },
  {
   "cell_type": "code",
   "execution_count": 91,
   "metadata": {},
   "outputs": [
    {
     "ename": "SyntaxError",
     "evalue": "'return' outside function (85494077.py, line 31)",
     "output_type": "error",
     "traceback": [
      "\u001b[1;36m  Cell \u001b[1;32mIn[91], line 31\u001b[1;36m\u001b[0m\n\u001b[1;33m    return all(resultado)   # devuelve TRue si todos son True\u001b[0m\n\u001b[1;37m    ^\u001b[0m\n\u001b[1;31mSyntaxError\u001b[0m\u001b[1;31m:\u001b[0m 'return' outside function\n"
     ]
    }
   ],
   "source": [
    "#SOLUCIÓN PRO\n",
    "    \n",
    "    # 1º condicion\n",
    "condition_len = False\n",
    "\n",
    "if len(s)>=8:\n",
    "    condition_len = True\n",
    "    # objetos de apoyo\n",
    "    lower =  \"qwertyuiopasdfghjklñzxcvbnm\"\n",
    "    upper=\"QWERTYUIOPASDFGHJKLÑZXCVBNM\"\n",
    "    num='0123456789'\n",
    "    simbols = ['#', '@', '!', '$', '%', '&', '(', ')', '^', '*', '[', ']', '{', '}']\n",
    "    \n",
    "    #Inicia todas las condiciones en false y luego va comprobando\n",
    "    \n",
    "    condition_low = False\n",
    "    condition_upp = False\n",
    "    condition_num = False\n",
    "    condition_sim = False\n",
    "    for letra in s:\n",
    "        if letra in lower:\n",
    "            condition_low = True\n",
    "        if letra in upper:\n",
    "            condition_upp = True\n",
    "        if letra in num:\n",
    "            condition_num = True\n",
    "        if letra in simbols:\n",
    "            condition_sim = True\n",
    "    resultado = [condition_len, condition_low,\n",
    "                condition_upp, condition_num, condition_sim]\n",
    "    return all(resultado)   # devuelve True si todos son True"
   ]
  },
  {
   "cell_type": "code",
   "execution_count": 97,
   "metadata": {},
   "outputs": [],
   "source": [
    "#SOLUCIÓN PRO COMMENTS\n",
    "\n",
    "def check_pass(s):\n",
    "    condition_len = False\n",
    "    condition_low = False\n",
    "    condition_upp = False\n",
    "    condition_num = False\n",
    "    condition_sim = False\n",
    "    # objetos de apoyo\n",
    "    lower =  \"qwertyuiopasdfghjklñzxcvbnm\"\n",
    "    upper=\"QWERTYUIOPASDFGHJKLÑZXCVBNM\"\n",
    "    num='0123456789'\n",
    "    simbols = ['#', '@', '!', '$', '%', '&', '(', ')', '^', '*', '[', ']', '{', '}']\n",
    "    # 1º\n",
    "    if len(s)>=8:\n",
    "        condition_len = True\n",
    "    # 2-5º\n",
    "    for letra in s:\n",
    "        if letra in lower:\n",
    "            condition_low = True\n",
    "        if letra in upper:\n",
    "            condition_upp = True\n",
    "        if letra in num:\n",
    "            condition_num = True\n",
    "        if letra in simbols:\n",
    "            condition_sim = True\n",
    "    resultado = [condition_len, condition_low,\n",
    "                condition_upp, condition_num, condition_sim]\n",
    "    return all(resultado)   # devuelve True si todos son True"
   ]
  },
  {
   "cell_type": "code",
   "execution_count": 98,
   "metadata": {},
   "outputs": [
    {
     "name": "stderr",
     "output_type": "stream",
     "text": [
      "....................................................................................................\n",
      "----------------------------------------------------------------------\n",
      "Ran 100 tests in 0.042s\n",
      "\n",
      "OK\n"
     ]
    }
   ],
   "source": [
    "# This will test your function \n",
    "test_pass(check_pass)"
   ]
  },
  {
   "cell_type": "code",
   "execution_count": null,
   "metadata": {},
   "outputs": [],
   "source": []
  }
 ],
 "metadata": {
  "kernelspec": {
   "display_name": "Python 3 (ipykernel)",
   "language": "python",
   "name": "python3"
  },
  "language_info": {
   "codemirror_mode": {
    "name": "ipython",
    "version": 3
   },
   "file_extension": ".py",
   "mimetype": "text/x-python",
   "name": "python",
   "nbconvert_exporter": "python",
   "pygments_lexer": "ipython3",
   "version": "3.11.4"
  },
  "toc": {
   "base_numbering": 1,
   "nav_menu": {},
   "number_sections": true,
   "sideBar": true,
   "skip_h1_title": false,
   "title_cell": "Table of Contents",
   "title_sidebar": "Contents",
   "toc_cell": true,
   "toc_position": {},
   "toc_section_display": true,
   "toc_window_display": false
  },
  "varInspector": {
   "cols": {
    "lenName": 16,
    "lenType": 16,
    "lenVar": 40
   },
   "kernels_config": {
    "python": {
     "delete_cmd_postfix": "",
     "delete_cmd_prefix": "del ",
     "library": "var_list.py",
     "varRefreshCmd": "print(var_dic_list())"
    },
    "r": {
     "delete_cmd_postfix": ") ",
     "delete_cmd_prefix": "rm(",
     "library": "var_list.r",
     "varRefreshCmd": "cat(var_dic_list()) "
    }
   },
   "types_to_exclude": [
    "module",
    "function",
    "builtin_function_or_method",
    "instance",
    "_Feature"
   ],
   "window_display": false
  }
 },
 "nbformat": 4,
 "nbformat_minor": 4
}
